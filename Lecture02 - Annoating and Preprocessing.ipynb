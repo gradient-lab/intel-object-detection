{
 "cells": [
  {
   "cell_type": "markdown",
   "metadata": {},
   "source": [
    "<img src='./img/intel-logo.png' width=50%>\n",
    "\n",
    "# 인텔코리아 객체인식 강의자료 2강\n",
    "<font size=5><b>(Crawling and Preprocessing)<b></font>\n",
    "\n",
    "<div align='right'> 이 인 구 (Ike Lee) </div>\n",
    "<div align='right'> 성 민 석 (Minsuk Sung) </div>\n",
    "<div align='right'> 류 회 성 (Hoesung Ryu) </div>"
   ]
  },
  {
   "cell_type": "markdown",
   "metadata": {
    "toc": true
   },
   "source": [
    "<h1>Lecture Contents<span class=\"tocSkip\"></span></h1>\n",
    "<div class=\"toc\"><ul class=\"toc-item\"><li><span><a href=\"#raccoon-image\" data-toc-modified-id=\"raccoon-image-1\"><span class=\"toc-item-num\">1&nbsp;&nbsp;</span>raccoon image</a></span></li><li><span><a href=\"#Annotation\" data-toc-modified-id=\"Annotation-2\"><span class=\"toc-item-num\">2&nbsp;&nbsp;</span>Annotation</a></span><ul class=\"toc-item\"><li><span><a href=\"#Installation\" data-toc-modified-id=\"Installation-2.1\"><span class=\"toc-item-num\">2.1&nbsp;&nbsp;</span>Installation</a></span></li><li><span><a href=\"#Directions-for-LabelImg\" data-toc-modified-id=\"Directions-for-LabelImg-2.2\"><span class=\"toc-item-num\">2.2&nbsp;&nbsp;</span>Directions for LabelImg</a></span></li></ul></li><li><span><a href=\"#Converting-(-xml-to-csv-)\" data-toc-modified-id=\"Converting-(-xml-to-csv-)-3\"><span class=\"toc-item-num\">3&nbsp;&nbsp;</span>Converting ( xml to csv )</a></span></li><li><span><a href=\"#Tf.record\" data-toc-modified-id=\"Tf.record-4\"><span class=\"toc-item-num\">4&nbsp;&nbsp;</span>Tf.record</a></span></li><li><span><a href=\"#object-detection.pbtxt\" data-toc-modified-id=\"object-detection.pbtxt-5\"><span class=\"toc-item-num\">5&nbsp;&nbsp;</span>object-detection.pbtxt</a></span></li><li><span><a href=\"#다음강의:-모델-트레이닝-시키기\" data-toc-modified-id=\"다음강의:-모델-트레이닝-시키기-6\"><span class=\"toc-item-num\">6&nbsp;&nbsp;</span>다음강의: 모델 트레이닝 시키기</a></span></li><li><span><a href=\"#References\" data-toc-modified-id=\"References-7\"><span class=\"toc-item-num\">7&nbsp;&nbsp;</span>References</a></span><ul class=\"toc-item\"><li><span><a href=\"#Google-Tensorflow-GitHub\" data-toc-modified-id=\"Google-Tensorflow-GitHub-7.1\"><span class=\"toc-item-num\">7.1&nbsp;&nbsp;</span>Google Tensorflow GitHub</a></span></li><li><span><a href=\"#Blog-Post\" data-toc-modified-id=\"Blog-Post-7.2\"><span class=\"toc-item-num\">7.2&nbsp;&nbsp;</span>Blog Post</a></span></li></ul></li></ul></div>"
   ]
  },
  {
   "cell_type": "markdown",
   "metadata": {},
   "source": [
    "---\n",
    "## Oxford-IIIT Pet Dataset\n",
    "\n",
    "![](https://cdn-images-1.medium.com/max/1000/1*HNatvr2oSO8tD5i2erHVLw.png)\n",
    "\n",
    "<img src='https://www.robots.ox.ac.uk/~vgg/data/pets/breed_count.jpg' height=50%>\n",
    "<center>[그림 1] Oxford-IIIT Pet Dataset - University of Oxford</center>\n",
    "<br>\n",
    "\n",
    "Tensorflow API를 통해 `너구리(Raccoon)` 찾아내기 위해서는 이미지가 필요합니다. 너구리 이미지를 얻기 위해서 `Google` 과 `Pixabay` 에서 크롤링(crawling)을 하며, 이렇게 다운받은 이미지는 `./raccoon_image` 경로에 저장시켜줍니다. 이때 학습에 사용할 이미지 데이터는 `RGB image`로써 `png` 또는 `jpeg` 포멧이여야합니다. "
   ]
  },
  {
   "cell_type": "markdown",
   "metadata": {},
   "source": [
    "---\n",
    "## Annotation\n",
    "\n",
    "이제 다운받은 각각의 너구리 이미지에 객체에 대한 정보를 설정해 주어야됩니다. 여기서 이미지 객체 정보란 class, x, y, width, height 가 이에 해당되며 이러한 정보를 저장하는 작업을 라벨링 작업이라 칭합니다. 라벨링 작업은 학습할 부분을 하나씩 지정해주는 단계로 시간을 가장 많이 소비될 수 있으며 데이터 수가 많다면 더 많은 시간이 걸립니다. \n",
    "라벨링 작업에 사용 되는 프로그램은 여러가지가 있지만, 본 듀토리얼에서는 `LabelImg` 라는 프로그램만을 사용하도록 합니다. 이 프로그램을 통하여 API 훈련에 필요한 이미지 객체 정보를 저장할수 있으며, 객체정보는 `xml` 파일로 저장되어집니다. \n",
    "<br>\n",
    "<img src='./img/labellmg.png' width=80%>\n",
    "<center>[그림 2-1] LabelImg을 하여 Annotation 하는 장면</center>\n",
    "<br>\n",
    "\n",
    "`LabelImg`은 이미지내의 특정 부분을 라벨을 지정할 수 있는 프로그램입니다. 라벨링된 이미지를 저장하면 `xml`포맷으로 저장이 됩니다."
   ]
  },
  {
   "cell_type": "markdown",
   "metadata": {},
   "source": [
    "### Installation\n",
    "LabelImg를 먼저 설치하려면 우선 PyQt 와 lxml을 설치 해주어야 합니다. 아래와 같은 명령어로 PyQt 와 lxml를 설치해주도록 합니다. \n",
    "\n",
    "```shell\n",
    "> sudo apt-get install pyqt5-dev-tools\n",
    "> sudo pip3 install -r requirements/requirements-linux-python3.txt\n",
    "> make qt5py3\n",
    "> python3 labelImg.py\n",
    "> python3 labelImg.py [IMAGE_PATH] [PRE-DEFINED CLASS FILE]\n",
    "> conda install pyqt=\n",
    "> conda install -c anaconda lxml\n",
    "```"
   ]
  },
  {
   "cell_type": "markdown",
   "metadata": {},
   "source": [
    "### Directions for LabelImg\n",
    "\n",
    "설치가 끝나면 `Ctrl+Alt+T`를 눌러서 터미널을 실행하고 `LabelImg` 프로그램을 실행시킵니다. \n",
    "\n",
    "```shell\n",
    "> cd ~/GitHub/intel-object-detection\n",
    "> sudo python3 labelImg/labelImg.py\n",
    "```\n",
    "오른쪽 상단에 Open 버튼을 통해 원하는 파일을 열어줍니다. \n",
    "열린 이미지에서 라벨대상과 이름을 지정한 후 저장을 하면 `xml`파일이 생성됩니다.\n",
    "\n",
    "<img src='./img/labellmg detail.png' width=80%>\n",
    "<center>[그림 2-2] LabelImg을 하여 Annotation 하는 장면</center>\n",
    "<br>"
   ]
  },
  {
   "cell_type": "markdown",
   "metadata": {},
   "source": [
    "---\n",
    "## Converting ( xml to csv )\n",
    "\n",
    "각각에 이미지 파일에 대한 라벨링 작업으로 `xml`파일이 만들어졌다면, 이를 바탕으로 `csv` 파일을 만들어야합니다. \n",
    "<img src='./img/xml22csv.png' width=60%>\n",
    "<br>\n",
    "아래와 같은 프로그램을 사용하여 `xml`을 `csv`로 바꾸어줍니다.\n",
    "```python\n",
    "%run ./utils/xml_to_csv.py \n",
    "```"
   ]
  },
  {
   "cell_type": "code",
   "execution_count": null,
   "metadata": {},
   "outputs": [],
   "source": [
    "%run ./utils/xml_to_csv.py "
   ]
  },
  {
   "cell_type": "code",
   "execution_count": null,
   "metadata": {},
   "outputs": [],
   "source": [
    "len(glob.glob('./data/img_total/*.jpg'))"
   ]
  },
  {
   "cell_type": "code",
   "execution_count": null,
   "metadata": {},
   "outputs": [],
   "source": [
    "# 찐토탈 \n",
    "raccoon_csv = pd.read_csv('./data/raccoon.csv')\n",
    "total_df = pd.concat([total_df, raccoon_csv], axis=0)"
   ]
  },
  {
   "cell_type": "code",
   "execution_count": null,
   "metadata": {},
   "outputs": [],
   "source": [
    "total_df.head()"
   ]
  },
  {
   "cell_type": "code",
   "execution_count": null,
   "metadata": {},
   "outputs": [],
   "source": [
    "total_df.shape"
   ]
  },
  {
   "cell_type": "code",
   "execution_count": null,
   "metadata": {},
   "outputs": [],
   "source": [
    "total_df.to_csv('./data/total.csv', index=None)"
   ]
  },
  {
   "cell_type": "markdown",
   "metadata": {},
   "source": [
    "## Split Train / Test dataset"
   ]
  },
  {
   "cell_type": "code",
   "execution_count": 5,
   "metadata": {},
   "outputs": [],
   "source": [
    "import numpy as np\n",
    "import pandas as pd\n",
    "from sklearn.model_selection import train_test_split"
   ]
  },
  {
   "cell_type": "code",
   "execution_count": 6,
   "metadata": {},
   "outputs": [
    {
     "data": {
      "text/html": [
       "<div>\n",
       "<style scoped>\n",
       "    .dataframe tbody tr th:only-of-type {\n",
       "        vertical-align: middle;\n",
       "    }\n",
       "\n",
       "    .dataframe tbody tr th {\n",
       "        vertical-align: top;\n",
       "    }\n",
       "\n",
       "    .dataframe thead th {\n",
       "        text-align: right;\n",
       "    }\n",
       "</style>\n",
       "<table border=\"1\" class=\"dataframe\">\n",
       "  <thead>\n",
       "    <tr style=\"text-align: right;\">\n",
       "      <th></th>\n",
       "      <th>filename</th>\n",
       "      <th>width</th>\n",
       "      <th>height</th>\n",
       "      <th>class</th>\n",
       "      <th>xmin</th>\n",
       "      <th>ymin</th>\n",
       "      <th>xmax</th>\n",
       "      <th>ymax</th>\n",
       "    </tr>\n",
       "  </thead>\n",
       "  <tbody>\n",
       "    <tr>\n",
       "      <th>0</th>\n",
       "      <td>Bengal_14.jpg</td>\n",
       "      <td>500</td>\n",
       "      <td>333</td>\n",
       "      <td>Bengal</td>\n",
       "      <td>121</td>\n",
       "      <td>28</td>\n",
       "      <td>349</td>\n",
       "      <td>281</td>\n",
       "    </tr>\n",
       "    <tr>\n",
       "      <th>1</th>\n",
       "      <td>japanese_chin_148.jpg</td>\n",
       "      <td>500</td>\n",
       "      <td>375</td>\n",
       "      <td>japanese_chin</td>\n",
       "      <td>37</td>\n",
       "      <td>1</td>\n",
       "      <td>424</td>\n",
       "      <td>251</td>\n",
       "    </tr>\n",
       "    <tr>\n",
       "      <th>2</th>\n",
       "      <td>Abyssinian_168.jpg</td>\n",
       "      <td>400</td>\n",
       "      <td>272</td>\n",
       "      <td>Abyssinian</td>\n",
       "      <td>37</td>\n",
       "      <td>38</td>\n",
       "      <td>183</td>\n",
       "      <td>182</td>\n",
       "    </tr>\n",
       "    <tr>\n",
       "      <th>3</th>\n",
       "      <td>havanese_135.jpg</td>\n",
       "      <td>500</td>\n",
       "      <td>457</td>\n",
       "      <td>havanese</td>\n",
       "      <td>63</td>\n",
       "      <td>49</td>\n",
       "      <td>450</td>\n",
       "      <td>362</td>\n",
       "    </tr>\n",
       "    <tr>\n",
       "      <th>4</th>\n",
       "      <td>pomeranian_111.jpg</td>\n",
       "      <td>300</td>\n",
       "      <td>253</td>\n",
       "      <td>pomeranian</td>\n",
       "      <td>92</td>\n",
       "      <td>3</td>\n",
       "      <td>173</td>\n",
       "      <td>81</td>\n",
       "    </tr>\n",
       "  </tbody>\n",
       "</table>\n",
       "</div>"
      ],
      "text/plain": [
       "                filename  width  height          class  xmin  ymin  xmax  ymax\n",
       "0          Bengal_14.jpg    500     333         Bengal   121    28   349   281\n",
       "1  japanese_chin_148.jpg    500     375  japanese_chin    37     1   424   251\n",
       "2     Abyssinian_168.jpg    400     272     Abyssinian    37    38   183   182\n",
       "3       havanese_135.jpg    500     457       havanese    63    49   450   362\n",
       "4     pomeranian_111.jpg    300     253     pomeranian    92     3   173    81"
      ]
     },
     "execution_count": 6,
     "metadata": {},
     "output_type": "execute_result"
    }
   ],
   "source": [
    "full_labels = pd.read_csv('./data/oxford_dataset.csv')\n",
    "full_labels.head()"
   ]
  },
  {
   "cell_type": "code",
   "execution_count": null,
   "metadata": {},
   "outputs": [],
   "source": [
    "X_train, X_test, y_train, y_test = train_test_split(full_labels.drop('class',axis=1),\n",
    "                                                    full_labels['class'],\n",
    "                                                    test_size=0.2,\n",
    "                                                    stratify=full_labels['class'])"
   ]
  },
  {
   "cell_type": "code",
   "execution_count": null,
   "metadata": {},
   "outputs": [],
   "source": [
    "train = pd.concat([X_train, y_train], axis=1)\n",
    "test = pd.concat([X_test, y_test], axis=1)"
   ]
  },
  {
   "cell_type": "code",
   "execution_count": null,
   "metadata": {},
   "outputs": [],
   "source": [
    "train.to_csv('./data/train_labels.csv', index=None, encoding='utf8')\n",
    "test.to_csv('./data/test_labels.csv', index=None, encoding='utf8')"
   ]
  },
  {
   "cell_type": "code",
   "execution_count": null,
   "metadata": {},
   "outputs": [],
   "source": [
    "train.shape, test.shape"
   ]
  },
  {
   "cell_type": "markdown",
   "metadata": {},
   "source": [
    "--- \n",
    "\n",
    "## Tf.record\n",
    "\n",
    "Object Detection 모델을 학습시킬 때마다 이미지와 .csv 파일을 한 쌍으로 데이터를 보관하고 이용하는 것은 비효율적입니다. 이를 해결하기 위해 Tensorflow Object Detection API는 에서는 이미지 파일과 이미지 객체정보가 담긴 `csv` 파일을 `TFRecord`라는 하나의 파일로 만들어 사용합니다.\n",
    "그럼 tf.record를 사용하여 이미지와 csv 묶어 `tf.record`로 만들어 주는 작업을 해보도록합니다. "
   ]
  },
  {
   "cell_type": "code",
   "execution_count": null,
   "metadata": {},
   "outputs": [],
   "source": [
    "import numpy as np\n",
    "import pandas as pd"
   ]
  },
  {
   "cell_type": "code",
   "execution_count": null,
   "metadata": {},
   "outputs": [],
   "source": [
    "# Read Custom Dataset Labels\n",
    "full_labels = pd.read_csv('./data/total.csv')"
   ]
  },
  {
   "cell_type": "code",
   "execution_count": null,
   "metadata": {},
   "outputs": [],
   "source": [
    "from sklearn.model_selection import train_test_split"
   ]
  },
  {
   "cell_type": "code",
   "execution_count": null,
   "metadata": {},
   "outputs": [],
   "source": [
    "X_train, X_test, y_train, y_test = train_test_split(full_labels.drop('class',axis=1),\n",
    "                                                    full_labels['class'],\n",
    "                                                    test_size=0.2, \n",
    "                                                    stratify=full_labels['class'])"
   ]
  },
  {
   "cell_type": "code",
   "execution_count": null,
   "metadata": {},
   "outputs": [],
   "source": [
    "train = pd.concat([X_train,y_train],axis=1)\n",
    "test = pd.concat([X_test,y_test],axis=1)"
   ]
  },
  {
   "cell_type": "code",
   "execution_count": null,
   "metadata": {},
   "outputs": [],
   "source": [
    "# Save\n",
    "train.to_csv('./data/train_labels.csv', index=None)\n",
    "test.to_csv('./data/test_labels.csv', index=None)"
   ]
  },
  {
   "cell_type": "code",
   "execution_count": null,
   "metadata": {},
   "outputs": [],
   "source": [
    "train.shape, test.shape"
   ]
  },
  {
   "cell_type": "markdown",
   "metadata": {},
   "source": [
    "우선, object_detection/data 폴더에 통합된 train_labels.csv 을 넣어줍니다. 그 후 아래 명령어를 실행해서 TFRecord 파일을 생성합니다.\n",
    "```bash\n",
    "%run ./utils/generate_tfrecord.py \\\n",
    "    --csv_input=data/train_labels.csv \\\n",
    "    --image_dir=data/img_total\\\n",
    "    --output_path=data/train.record\n",
    "    \n",
    "%run ./utils/generate_tfrecord.py \\\n",
    "    --csv_input=data/test_labels.csv \\\n",
    "    --image_dir=data/img_total\\\n",
    "    --output_path=data/test.record\n",
    "```"
   ]
  },
  {
   "cell_type": "code",
   "execution_count": 3,
   "metadata": {
    "scrolled": true
   },
   "outputs": [
    {
     "name": "stdout",
     "output_type": "stream",
     "text": [
      "/home/intel/.local/lib/python3.5/site-packages/tensorflow/python/framework/dtypes.py:516: FutureWarning: Passing (type, 1) or '1type' as a synonym of type is deprecated; in a future version of numpy, it will be understood as (type, (1,)) / '(1,)type'.\n",
      "  _np_qint8 = np.dtype([(\"qint8\", np.int8, 1)])\n",
      "/home/intel/.local/lib/python3.5/site-packages/tensorflow/python/framework/dtypes.py:517: FutureWarning: Passing (type, 1) or '1type' as a synonym of type is deprecated; in a future version of numpy, it will be understood as (type, (1,)) / '(1,)type'.\n",
      "  _np_quint8 = np.dtype([(\"quint8\", np.uint8, 1)])\n",
      "/home/intel/.local/lib/python3.5/site-packages/tensorflow/python/framework/dtypes.py:518: FutureWarning: Passing (type, 1) or '1type' as a synonym of type is deprecated; in a future version of numpy, it will be understood as (type, (1,)) / '(1,)type'.\n",
      "  _np_qint16 = np.dtype([(\"qint16\", np.int16, 1)])\n",
      "/home/intel/.local/lib/python3.5/site-packages/tensorflow/python/framework/dtypes.py:519: FutureWarning: Passing (type, 1) or '1type' as a synonym of type is deprecated; in a future version of numpy, it will be understood as (type, (1,)) / '(1,)type'.\n",
      "  _np_quint16 = np.dtype([(\"quint16\", np.uint16, 1)])\n",
      "/home/intel/.local/lib/python3.5/site-packages/tensorflow/python/framework/dtypes.py:520: FutureWarning: Passing (type, 1) or '1type' as a synonym of type is deprecated; in a future version of numpy, it will be understood as (type, (1,)) / '(1,)type'.\n",
      "  _np_qint32 = np.dtype([(\"qint32\", np.int32, 1)])\n",
      "/home/intel/.local/lib/python3.5/site-packages/tensorflow/python/framework/dtypes.py:525: FutureWarning: Passing (type, 1) or '1type' as a synonym of type is deprecated; in a future version of numpy, it will be understood as (type, (1,)) / '(1,)type'.\n",
      "  np_resource = np.dtype([(\"resource\", np.ubyte, 1)])\n",
      "/usr/local/lib/python3.5/dist-packages/requests/__init__.py:91: RequestsDependencyWarning: urllib3 (1.25.7) or chardet (3.0.4) doesn't match a supported version!\n",
      "  RequestsDependencyWarning)\n",
      "/home/intel/.local/lib/python3.5/site-packages/tensorboard/compat/tensorflow_stub/dtypes.py:541: FutureWarning: Passing (type, 1) or '1type' as a synonym of type is deprecated; in a future version of numpy, it will be understood as (type, (1,)) / '(1,)type'.\n",
      "  _np_qint8 = np.dtype([(\"qint8\", np.int8, 1)])\n",
      "/home/intel/.local/lib/python3.5/site-packages/tensorboard/compat/tensorflow_stub/dtypes.py:542: FutureWarning: Passing (type, 1) or '1type' as a synonym of type is deprecated; in a future version of numpy, it will be understood as (type, (1,)) / '(1,)type'.\n",
      "  _np_quint8 = np.dtype([(\"quint8\", np.uint8, 1)])\n",
      "/home/intel/.local/lib/python3.5/site-packages/tensorboard/compat/tensorflow_stub/dtypes.py:543: FutureWarning: Passing (type, 1) or '1type' as a synonym of type is deprecated; in a future version of numpy, it will be understood as (type, (1,)) / '(1,)type'.\n",
      "  _np_qint16 = np.dtype([(\"qint16\", np.int16, 1)])\n",
      "/home/intel/.local/lib/python3.5/site-packages/tensorboard/compat/tensorflow_stub/dtypes.py:544: FutureWarning: Passing (type, 1) or '1type' as a synonym of type is deprecated; in a future version of numpy, it will be understood as (type, (1,)) / '(1,)type'.\n",
      "  _np_quint16 = np.dtype([(\"quint16\", np.uint16, 1)])\n",
      "/home/intel/.local/lib/python3.5/site-packages/tensorboard/compat/tensorflow_stub/dtypes.py:545: FutureWarning: Passing (type, 1) or '1type' as a synonym of type is deprecated; in a future version of numpy, it will be understood as (type, (1,)) / '(1,)type'.\n",
      "  _np_qint32 = np.dtype([(\"qint32\", np.int32, 1)])\n",
      "/home/intel/.local/lib/python3.5/site-packages/tensorboard/compat/tensorflow_stub/dtypes.py:550: FutureWarning: Passing (type, 1) or '1type' as a synonym of type is deprecated; in a future version of numpy, it will be understood as (type, (1,)) / '(1,)type'.\n",
      "  np_resource = np.dtype([(\"resource\", np.ubyte, 1)])\n",
      "WARNING:tensorflow:From utils/generate_tfrecord.py:184: The name tf.app.run is deprecated. Please use tf.compat.v1.app.run instead.\n",
      "\n",
      "/home/intel/Desktop/intel-object-detection-final\n",
      "data/train_labels.csv\n",
      "data/train.record\n",
      "data/images\n",
      "WARNING:tensorflow:From utils/generate_tfrecord.py:170: The name tf.python_io.TFRecordWriter is deprecated. Please use tf.io.TFRecordWriter instead.\n",
      "\n",
      "W1012 19:38:32.059062 140299651430144 deprecation_wrapper.py:119] From utils/generate_tfrecord.py:170: The name tf.python_io.TFRecordWriter is deprecated. Please use tf.io.TFRecordWriter instead.\n",
      "\n",
      "WARNING:tensorflow:From utils/generate_tfrecord.py:124: The name tf.gfile.GFile is deprecated. Please use tf.io.gfile.GFile instead.\n",
      "\n",
      "W1012 19:38:33.023360 140299651430144 deprecation_wrapper.py:119] From utils/generate_tfrecord.py:124: The name tf.gfile.GFile is deprecated. Please use tf.io.gfile.GFile instead.\n",
      "\n",
      "Successfully created the TFRecords: /home/intel/Desktop/intel-object-detection-final/data/train.record\n"
     ]
    }
   ],
   "source": [
    "!export PYTHONPATH=$PYTHONPATH:`pwd`:`pwd`/slim:`pwd`/object_detection && \\\n",
    "python3 utils/generate_tfrecord.py \\\n",
    "    --csv_input=data/train_labels.csv \\\n",
    "    --image_dir=data/images\\\n",
    "    --output_path=data/train.record"
   ]
  },
  {
   "cell_type": "code",
   "execution_count": 4,
   "metadata": {
    "scrolled": true
   },
   "outputs": [
    {
     "name": "stdout",
     "output_type": "stream",
     "text": [
      "/home/intel/.local/lib/python3.5/site-packages/tensorflow/python/framework/dtypes.py:516: FutureWarning: Passing (type, 1) or '1type' as a synonym of type is deprecated; in a future version of numpy, it will be understood as (type, (1,)) / '(1,)type'.\n",
      "  _np_qint8 = np.dtype([(\"qint8\", np.int8, 1)])\n",
      "/home/intel/.local/lib/python3.5/site-packages/tensorflow/python/framework/dtypes.py:517: FutureWarning: Passing (type, 1) or '1type' as a synonym of type is deprecated; in a future version of numpy, it will be understood as (type, (1,)) / '(1,)type'.\n",
      "  _np_quint8 = np.dtype([(\"quint8\", np.uint8, 1)])\n",
      "/home/intel/.local/lib/python3.5/site-packages/tensorflow/python/framework/dtypes.py:518: FutureWarning: Passing (type, 1) or '1type' as a synonym of type is deprecated; in a future version of numpy, it will be understood as (type, (1,)) / '(1,)type'.\n",
      "  _np_qint16 = np.dtype([(\"qint16\", np.int16, 1)])\n",
      "/home/intel/.local/lib/python3.5/site-packages/tensorflow/python/framework/dtypes.py:519: FutureWarning: Passing (type, 1) or '1type' as a synonym of type is deprecated; in a future version of numpy, it will be understood as (type, (1,)) / '(1,)type'.\n",
      "  _np_quint16 = np.dtype([(\"quint16\", np.uint16, 1)])\n",
      "/home/intel/.local/lib/python3.5/site-packages/tensorflow/python/framework/dtypes.py:520: FutureWarning: Passing (type, 1) or '1type' as a synonym of type is deprecated; in a future version of numpy, it will be understood as (type, (1,)) / '(1,)type'.\n",
      "  _np_qint32 = np.dtype([(\"qint32\", np.int32, 1)])\n",
      "/home/intel/.local/lib/python3.5/site-packages/tensorflow/python/framework/dtypes.py:525: FutureWarning: Passing (type, 1) or '1type' as a synonym of type is deprecated; in a future version of numpy, it will be understood as (type, (1,)) / '(1,)type'.\n",
      "  np_resource = np.dtype([(\"resource\", np.ubyte, 1)])\n",
      "/usr/local/lib/python3.5/dist-packages/requests/__init__.py:91: RequestsDependencyWarning: urllib3 (1.25.7) or chardet (3.0.4) doesn't match a supported version!\n",
      "  RequestsDependencyWarning)\n",
      "/home/intel/.local/lib/python3.5/site-packages/tensorboard/compat/tensorflow_stub/dtypes.py:541: FutureWarning: Passing (type, 1) or '1type' as a synonym of type is deprecated; in a future version of numpy, it will be understood as (type, (1,)) / '(1,)type'.\n",
      "  _np_qint8 = np.dtype([(\"qint8\", np.int8, 1)])\n",
      "/home/intel/.local/lib/python3.5/site-packages/tensorboard/compat/tensorflow_stub/dtypes.py:542: FutureWarning: Passing (type, 1) or '1type' as a synonym of type is deprecated; in a future version of numpy, it will be understood as (type, (1,)) / '(1,)type'.\n",
      "  _np_quint8 = np.dtype([(\"quint8\", np.uint8, 1)])\n",
      "/home/intel/.local/lib/python3.5/site-packages/tensorboard/compat/tensorflow_stub/dtypes.py:543: FutureWarning: Passing (type, 1) or '1type' as a synonym of type is deprecated; in a future version of numpy, it will be understood as (type, (1,)) / '(1,)type'.\n",
      "  _np_qint16 = np.dtype([(\"qint16\", np.int16, 1)])\n",
      "/home/intel/.local/lib/python3.5/site-packages/tensorboard/compat/tensorflow_stub/dtypes.py:544: FutureWarning: Passing (type, 1) or '1type' as a synonym of type is deprecated; in a future version of numpy, it will be understood as (type, (1,)) / '(1,)type'.\n",
      "  _np_quint16 = np.dtype([(\"quint16\", np.uint16, 1)])\n",
      "/home/intel/.local/lib/python3.5/site-packages/tensorboard/compat/tensorflow_stub/dtypes.py:545: FutureWarning: Passing (type, 1) or '1type' as a synonym of type is deprecated; in a future version of numpy, it will be understood as (type, (1,)) / '(1,)type'.\n",
      "  _np_qint32 = np.dtype([(\"qint32\", np.int32, 1)])\n",
      "/home/intel/.local/lib/python3.5/site-packages/tensorboard/compat/tensorflow_stub/dtypes.py:550: FutureWarning: Passing (type, 1) or '1type' as a synonym of type is deprecated; in a future version of numpy, it will be understood as (type, (1,)) / '(1,)type'.\n",
      "  np_resource = np.dtype([(\"resource\", np.ubyte, 1)])\n",
      "WARNING:tensorflow:From ./utils/generate_tfrecord.py:184: The name tf.app.run is deprecated. Please use tf.compat.v1.app.run instead.\n",
      "\n",
      "/home/intel/Desktop/intel-object-detection-final\n",
      "data/test_labels.csv\n",
      "data/test.record\n",
      "data/images\n",
      "WARNING:tensorflow:From ./utils/generate_tfrecord.py:170: The name tf.python_io.TFRecordWriter is deprecated. Please use tf.io.TFRecordWriter instead.\n",
      "\n",
      "W1012 19:39:06.825201 140457317476096 deprecation_wrapper.py:119] From ./utils/generate_tfrecord.py:170: The name tf.python_io.TFRecordWriter is deprecated. Please use tf.io.TFRecordWriter instead.\n",
      "\n",
      "WARNING:tensorflow:From ./utils/generate_tfrecord.py:124: The name tf.gfile.GFile is deprecated. Please use tf.io.gfile.GFile instead.\n",
      "\n",
      "W1012 19:39:07.025893 140457317476096 deprecation_wrapper.py:119] From ./utils/generate_tfrecord.py:124: The name tf.gfile.GFile is deprecated. Please use tf.io.gfile.GFile instead.\n",
      "\n",
      "Successfully created the TFRecords: /home/intel/Desktop/intel-object-detection-final/data/test.record\n"
     ]
    }
   ],
   "source": [
    "!export PYTHONPATH=$PYTHONPATH:`pwd`:`pwd`/slim:`pwd`/object_detection && \\\n",
    "python3 ./utils/generate_tfrecord.py \\\n",
    "    --csv_input=data/test_labels.csv \\\n",
    "    --image_dir=data/images\\\n",
    "    --output_path=data/test.record"
   ]
  },
  {
   "cell_type": "markdown",
   "metadata": {},
   "source": [
    "---\n",
    "## object-detection.pbtxt \n",
    "\n",
    "TFRecord 파일은 .pb 포맷으로 학습 시 데이터를 읽어 오는데, 여기서 객체 정보에 대한 label을 .pbtxt형식으로 읽게 됩니다.\n",
    "본 튜토리얼에서는 Oxford Dataset에 있는 개/고양이 품종을 검출하기 위해 아래와 같이 설정해 주었습니다. 아래와 같이 `./model/label_map`폴더에 `.pbtxt`파일을 만들어 주었습니다.\n",
    "\n",
    "```\n",
    "item {\n",
    "  id: 1\n",
    "  name: 'Abyssinian'\n",
    "}\n",
    "\n",
    "item {\n",
    "  id: 2\n",
    "  name: 'american_bulldog'\n",
    "}\n",
    "\n",
    "\n",
    "(... 생략 ...)\n",
    "\n",
    "\n",
    "item {\n",
    "  id: 36\n",
    "  name: 'wheaten_terrier'\n",
    "}\n",
    "\n",
    "item {\n",
    "  id: 37\n",
    "  name: 'yorkshire_terrier'\n",
    "}\n",
    "\n",
    "```"
   ]
  },
  {
   "cell_type": "markdown",
   "metadata": {},
   "source": [
    "--- \n",
    "## 다음강의: 모델 트레이닝 시키기\n",
    "<img src='./img/model_training.png' width=40%>\n",
    "<br>\n",
    "본 듀토리얼에서 만들어진 `.record`, `.config`와 `.pbtxt` 세가지 파일을 가지고` model.pb`을 만드는 과정을 배워보도록합니다. \n",
    "\n",
    "- pipeline\n",
    " 1. `.config` 을 가지고  `model.ckpt` 만들기(with train.sh)\n",
    " 2. `.config` & `model.ckpt` 을 가지고  `model.pb`( with export.inference.graph.py))"
   ]
  },
  {
   "cell_type": "markdown",
   "metadata": {},
   "source": [
    "---\n",
    "\n",
    "## References"
   ]
  },
  {
   "cell_type": "markdown",
   "metadata": {},
   "source": [
    "### Google Tensorflow GitHub\n",
    "- https://github.com/tensorflow/models/blob/master/research/object_detection/g3doc/detection_model_zoo.md\n",
    "- https://github.com/tensorflow/models/blob/master/research/object_detection/object_detection_tutorial.ipynb\n",
    "- https://github.com/protocolbuffers/protobuf/releases\n",
    "\n",
    "### Blog Post\n",
    "- https://bcho.tistory.com/1192\n",
    "- https://hoya012.github.io/blog/Tutorials-of-Object-Detection-Using-Deep-Learning-what-is-object-detection/\n",
    "- https://deepbaksuvision.github.io/Modu_ObjectDetection/posts/01_00_What_is_Object_Detection.html\n",
    "- https://taeu.github.io/paper/deeplearning-paper-ssd/\n",
    "- https://teamlab.github.io/jekyllDecent/blog/object%20detection/Object-detection-tutoral\n",
    "- https://ukayzm.github.io/python-object-detection-tensorflow/\n",
    "- https://towardsdatascience.com/real-time-object-detection-with-tensorflow-detection-model-e7fd20421d5d\n",
    "- https://github.com/ukayzm/opencv/tree/master/object_detection_tensorflow\n",
    "- http://blog.naver.com/PostView.nhn?blogId=bdh0727&logNo=221341342386&from=search&redirect=Log&widgetTypeCall=true&directAccess=false\n",
    "- https://m.blog.naver.com/PostView.nhn?blogId=dschae9&logNo=221159192026&proxyReferer=https%3A%2F%2Fwww.google.com%2F\n",
    "- https://github.com/Daehyun-Bae/Object_Detection_API_utils\n",
    "- https://bcho.tistory.com/1192\n",
    "- https://ballentain.tistory.com/15\n",
    "- https://ballentain.tistory.com/14\n",
    "- http://solarisailab.com/archives/2422\n",
    "- https://forum.ubuntu-kr.org/viewtopic.php?t=21841\n",
    "- https://you359.github.io/tensorflow%20models/Tensorflow-Object-Detection-API-Training/"
   ]
  }
 ],
 "metadata": {
  "hide_input": false,
  "kernelspec": {
   "display_name": "Python 3",
   "language": "python",
   "name": "python3"
  },
  "language_info": {
   "codemirror_mode": {
    "name": "ipython",
    "version": 3
   },
   "file_extension": ".py",
   "mimetype": "text/x-python",
   "name": "python",
   "nbconvert_exporter": "python",
   "pygments_lexer": "ipython3",
   "version": "3.5.2"
  },
  "toc": {
   "base_numbering": 1,
   "nav_menu": {},
   "number_sections": true,
   "sideBar": true,
   "skip_h1_title": true,
   "title_cell": "Lecture Contents",
   "title_sidebar": "Lecture Contents",
   "toc_cell": true,
   "toc_position": {},
   "toc_section_display": true,
   "toc_window_display": false
  },
  "varInspector": {
   "cols": {
    "lenName": 16,
    "lenType": 16,
    "lenVar": 40
   },
   "kernels_config": {
    "python": {
     "delete_cmd_postfix": "",
     "delete_cmd_prefix": "del ",
     "library": "var_list.py",
     "varRefreshCmd": "print(var_dic_list())"
    },
    "r": {
     "delete_cmd_postfix": ") ",
     "delete_cmd_prefix": "rm(",
     "library": "var_list.r",
     "varRefreshCmd": "cat(var_dic_list()) "
    }
   },
   "types_to_exclude": [
    "module",
    "function",
    "builtin_function_or_method",
    "instance",
    "_Feature"
   ],
   "window_display": false
  }
 },
 "nbformat": 4,
 "nbformat_minor": 2
}
